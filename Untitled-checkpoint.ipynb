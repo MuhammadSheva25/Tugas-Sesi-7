{
 "cells": [
  {
   "cell_type": "code",
   "execution_count": 3,
   "id": "9f5d6083",
   "metadata": {},
   "outputs": [
    {
     "name": "stdout",
     "output_type": "stream",
     "text": [
      "LUPA-LUPA INGAT\n",
      "TAGNI APUL-APUL\n"
     ]
    }
   ],
   "source": [
    "def balikan_kata(kata):\n",
    "    return kata[::-1]\n",
    "\n",
    "\n",
    "print('LUPA-LUPA INGAT')\n",
    "print(balikan_kata('LUPA-LUPA INGAT'))"
   ]
  },
  {
   "cell_type": "code",
   "execution_count": 6,
   "id": "5d3e881d",
   "metadata": {},
   "outputs": [
    {
     "name": "stdout",
     "output_type": "stream",
     "text": [
      "Jumlah huruf a = 3\n",
      "Jumlah huruf i = 2\n",
      "Jumlah huruf u = 3\n",
      "Jumlah huruf e = 2\n",
      "Jumlah huruf o = 0\n"
     ]
    }
   ],
   "source": [
    "def hitung_huruf_vokal(kata):\n",
    "    vokal = ['a', 'i', 'u', 'e', 'o']\n",
    "    for char in vokal:\n",
    "        print(f\"Jumlah huruf {char} = {kata.lower().count(char)}\")\n",
    "        \n",
    "\n",
    "hitung_huruf_vokal('Universitas Nusa Putera')"
   ]
  },
  {
   "cell_type": "code",
   "execution_count": null,
   "id": "b60aed89",
   "metadata": {},
   "outputs": [],
   "source": []
  }
 ],
 "metadata": {
  "kernelspec": {
   "display_name": "Python 3 (ipykernel)",
   "language": "python",
   "name": "python3"
  },
  "language_info": {
   "codemirror_mode": {
    "name": "ipython",
    "version": 3
   },
   "file_extension": ".py",
   "mimetype": "text/x-python",
   "name": "python",
   "nbconvert_exporter": "python",
   "pygments_lexer": "ipython3",
   "version": "3.9.12"
  }
 },
 "nbformat": 4,
 "nbformat_minor": 5
}
